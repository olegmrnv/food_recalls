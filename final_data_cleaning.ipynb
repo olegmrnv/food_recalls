{
 "cells": [
  {
   "cell_type": "code",
   "execution_count": 2,
   "metadata": {},
   "outputs": [],
   "source": [
    "# Dependencies\n",
    "import requests\n",
    "from pprint import pprint\n",
    "from config import api_key\n",
    "import csv\n",
    "import json\n",
    "import datetime\n",
    "import time\n",
    "import pandas as pd"
   ]
  },
  {
   "cell_type": "code",
   "execution_count": 6,
   "metadata": {},
   "outputs": [
    {
     "name": "stdout",
     "output_type": "stream",
     "text": [
      "20190101+TO+20190531\n",
      "https://api.fda.gov/food/enforcement.json?search=report_date:[20190101+TO+20190531]&limit=99\n",
      "20190601+TO+20191231\n",
      "https://api.fda.gov/food/enforcement.json?search=report_date:[20190601+TO+20191231]&limit=99\n",
      "20180101+TO+20180531\n",
      "https://api.fda.gov/food/enforcement.json?search=report_date:[20180101+TO+20180531]&limit=99\n",
      "20180601+TO+20181231\n",
      "https://api.fda.gov/food/enforcement.json?search=report_date:[20180601+TO+20181231]&limit=99\n",
      "20170101+TO+20170531\n",
      "https://api.fda.gov/food/enforcement.json?search=report_date:[20170101+TO+20170531]&limit=99\n",
      "20170601+TO+20171231\n",
      "https://api.fda.gov/food/enforcement.json?search=report_date:[20170601+TO+20171231]&limit=99\n",
      "20160101+TO+20160531\n",
      "https://api.fda.gov/food/enforcement.json?search=report_date:[20160101+TO+20160531]&limit=99\n",
      "20160601+TO+20161231\n",
      "https://api.fda.gov/food/enforcement.json?search=report_date:[20160601+TO+20161231]&limit=99\n",
      "20150101+TO+20150531\n",
      "https://api.fda.gov/food/enforcement.json?search=report_date:[20150101+TO+20150531]&limit=99\n",
      "20150601+TO+20151231\n",
      "https://api.fda.gov/food/enforcement.json?search=report_date:[20150601+TO+20151231]&limit=99\n",
      "20140101+TO+20140531\n",
      "https://api.fda.gov/food/enforcement.json?search=report_date:[20140101+TO+20140531]&limit=99\n",
      "20140601+TO+20141231\n",
      "https://api.fda.gov/food/enforcement.json?search=report_date:[20140601+TO+20141231]&limit=99\n",
      "20130101+TO+20130531\n",
      "https://api.fda.gov/food/enforcement.json?search=report_date:[20130101+TO+20130531]&limit=99\n",
      "20130601+TO+20131231\n",
      "https://api.fda.gov/food/enforcement.json?search=report_date:[20130601+TO+20131231]&limit=99\n",
      "20120101+TO+20120531\n",
      "https://api.fda.gov/food/enforcement.json?search=report_date:[20120101+TO+20120531]&limit=99\n",
      "20120601+TO+20121231\n",
      "https://api.fda.gov/food/enforcement.json?search=report_date:[20120601+TO+20121231]&limit=99\n",
      "20110101+TO+20110531\n",
      "https://api.fda.gov/food/enforcement.json?search=report_date:[20110101+TO+20110531]&limit=99\n",
      "20110601+TO+20111231\n",
      "https://api.fda.gov/food/enforcement.json?search=report_date:[20110601+TO+20111231]&limit=99\n",
      "20100101+TO+20100531\n",
      "https://api.fda.gov/food/enforcement.json?search=report_date:[20100101+TO+20100531]&limit=99\n",
      "20100601+TO+20101231\n",
      "https://api.fda.gov/food/enforcement.json?search=report_date:[20100601+TO+20101231]&limit=99\n"
     ]
    }
   ],
   "source": [
    "time_list = ['20190101+TO+20190531', '20190601+TO+20191231', \n",
    "             '20180101+TO+20180531', '20180601+TO+20181231',\n",
    "             '20170101+TO+20170531', '20170601+TO+20171231',\n",
    "             '20160101+TO+20160531', '20160601+TO+20161231',\n",
    "             '20150101+TO+20150531', '20150601+TO+20151231',\n",
    "             '20140101+TO+20140531', '20140601+TO+20141231',\n",
    "             '20130101+TO+20130531', '20130601+TO+20131231',\n",
    "             '20120101+TO+20120531', '20120601+TO+20121231',\n",
    "             '20110101+TO+20110531', '20110601+TO+20111231',\n",
    "             '20100101+TO+20100531', '20100601+TO+20101231',\n",
    "            ]\n",
    "frames = []\n",
    "\n",
    "for time_item in time_list:\n",
    "    print (time_item)\n",
    "    url = \"https://api.fda.gov/food/enforcement.json?search=report_date:[\" + time_item +\"]&limit=99\"\n",
    "    print (url)\n",
    "    respond = requests.get(url).json()\n",
    "    df_temp = pd.DataFrame(respond[\"results\"])\n",
    "    df_clean = df_temp[['state', 'city', 'report_date', 'product_description', 'product_quantity', 'reason_for_recall', 'recalling_firm', 'recall_number']]\n",
    "    frames.append(df_clean)\n",
    "    \n",
    "result = pd.concat(frames)"
   ]
  },
  {
   "cell_type": "code",
   "execution_count": null,
   "metadata": {},
   "outputs": [],
   "source": []
  }
 ],
 "metadata": {
  "kernelspec": {
   "display_name": "Python 3",
   "language": "python",
   "name": "python3"
  },
  "language_info": {
   "codemirror_mode": {
    "name": "ipython",
    "version": 3
   },
   "file_extension": ".py",
   "mimetype": "text/x-python",
   "name": "python",
   "nbconvert_exporter": "python",
   "pygments_lexer": "ipython3",
   "version": "3.7.1"
  }
 },
 "nbformat": 4,
 "nbformat_minor": 2
}
